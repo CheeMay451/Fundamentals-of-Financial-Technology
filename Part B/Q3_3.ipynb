{
  "nbformat": 4,
  "nbformat_minor": 0,
  "metadata": {
    "colab": {
      "provenance": []
    },
    "kernelspec": {
      "name": "python3",
      "display_name": "Python 3"
    },
    "language_info": {
      "name": "python"
    }
  },
  "cells": [
    {
      "cell_type": "code",
      "execution_count": null,
      "metadata": {
        "id": "_kHn2nS305X-"
      },
      "outputs": [],
      "source": [
        "from sklearn.model_selection import train_test_split\n",
        "from sklearn.preprocessing import MinMaxScaler\n",
        "from sklearn.metrics import mean_absolute_error, roc_auc_score, accuracy_score\n",
        "from sklearn.ensemble import RandomForestRegressor\n",
        "import pandas as pd\n",
        "import matplotlib.pyplot as plt"
      ]
    },
    {
      "cell_type": "code",
      "source": [
        "features = ['loan_amnt', 'annual_inc', 'term', 'emp_length', 'loan_status']\n",
        "full_data = pd.read_csv('accepted_2007_to_2018Q4.csv', usecols = features)\n",
        "data = full_data.query(\"loan_status in ('Fully Paid', 'Charged Off')\").copy()\n",
        "data = data.dropna()\n",
        "print(data)"
      ],
      "metadata": {
        "colab": {
          "base_uri": "https://localhost:8080/"
        },
        "id": "-mI7dHVo09io",
        "outputId": "205a40bc-6fe8-4fde-fa81-6bd933afdaf9"
      },
      "execution_count": null,
      "outputs": [
        {
          "output_type": "stream",
          "name": "stdout",
          "text": [
            "      loan_amnt        term emp_length  annual_inc loan_status\n",
            "0        3600.0   36 months  10+ years     55000.0  Fully Paid\n",
            "1       24700.0   36 months  10+ years     65000.0  Fully Paid\n",
            "2       20000.0   60 months  10+ years     63000.0  Fully Paid\n",
            "4       10400.0   60 months    3 years    104433.0  Fully Paid\n",
            "5       11950.0   36 months    4 years     34000.0  Fully Paid\n",
            "...         ...         ...        ...         ...         ...\n",
            "2792     8000.0   36 months    4 years     95000.0  Fully Paid\n",
            "2793     8000.0   36 months    5 years    125000.0  Fully Paid\n",
            "2794    11500.0   36 months    3 years     32000.0  Fully Paid\n",
            "2795    18025.0   36 months   < 1 year     48000.0  Fully Paid\n",
            "2796     9400.0   36 months  10+ years    100000.0  Fully Paid\n",
            "\n",
            "[2361 rows x 5 columns]\n"
          ]
        }
      ]
    },
    {
      "cell_type": "code",
      "source": [
        "data['loan_status'] = data['loan_status'].replace({'Fully Paid': 1, 'Charged Off': 0})\n",
        "data['term'] = data['term'].replace({' 36 months': 36, ' 60 months': 60})\n",
        "data['emp_length'] = data['emp_length'].map(lambda x: x.split(' ')[0])\n",
        "data['emp_length'] = data['emp_length'].map(lambda x: str(x).replace('+', '').replace('<', '0'))\n",
        "print(data)"
      ],
      "metadata": {
        "colab": {
          "base_uri": "https://localhost:8080/"
        },
        "id": "KRHrT-P71b2g",
        "outputId": "4fa6f515-2cf6-4e72-c3ee-246c7364fc16"
      },
      "execution_count": null,
      "outputs": [
        {
          "output_type": "stream",
          "name": "stdout",
          "text": [
            "      loan_amnt  term emp_length  annual_inc  loan_status\n",
            "0        3600.0    36         10     55000.0            1\n",
            "1       24700.0    36         10     65000.0            1\n",
            "2       20000.0    60         10     63000.0            1\n",
            "4       10400.0    60          3    104433.0            1\n",
            "5       11950.0    36          4     34000.0            1\n",
            "...         ...   ...        ...         ...          ...\n",
            "2792     8000.0    36          4     95000.0            1\n",
            "2793     8000.0    36          5    125000.0            1\n",
            "2794    11500.0    36          3     32000.0            1\n",
            "2795    18025.0    36          0     48000.0            1\n",
            "2796     9400.0    36         10    100000.0            1\n",
            "\n",
            "[2361 rows x 5 columns]\n"
          ]
        }
      ]
    },
    {
      "cell_type": "code",
      "source": [
        "X = list(data.columns)\n",
        "X.remove('loan_status')\n",
        "Y = 'loan_status'\n",
        "X_train, X_test, y_train, y_test = train_test_split(data[X], data[Y], test_size=0.2, random_state=42)"
      ],
      "metadata": {
        "id": "0Vcjlb_v27V2"
      },
      "execution_count": null,
      "outputs": []
    },
    {
      "cell_type": "code",
      "source": [
        "model = RandomForestRegressor()\n",
        "model.fit(X_train, y_train)"
      ],
      "metadata": {
        "colab": {
          "base_uri": "https://localhost:8080/",
          "height": 75
        },
        "id": "9XKdwWAo3-Uj",
        "outputId": "6b627d5e-5307-40fa-ea2d-b778948c2fc0"
      },
      "execution_count": null,
      "outputs": [
        {
          "output_type": "execute_result",
          "data": {
            "text/plain": [
              "RandomForestRegressor()"
            ],
            "text/html": [
              "<style>#sk-container-id-1 {color: black;background-color: white;}#sk-container-id-1 pre{padding: 0;}#sk-container-id-1 div.sk-toggleable {background-color: white;}#sk-container-id-1 label.sk-toggleable__label {cursor: pointer;display: block;width: 100%;margin-bottom: 0;padding: 0.3em;box-sizing: border-box;text-align: center;}#sk-container-id-1 label.sk-toggleable__label-arrow:before {content: \"▸\";float: left;margin-right: 0.25em;color: #696969;}#sk-container-id-1 label.sk-toggleable__label-arrow:hover:before {color: black;}#sk-container-id-1 div.sk-estimator:hover label.sk-toggleable__label-arrow:before {color: black;}#sk-container-id-1 div.sk-toggleable__content {max-height: 0;max-width: 0;overflow: hidden;text-align: left;background-color: #f0f8ff;}#sk-container-id-1 div.sk-toggleable__content pre {margin: 0.2em;color: black;border-radius: 0.25em;background-color: #f0f8ff;}#sk-container-id-1 input.sk-toggleable__control:checked~div.sk-toggleable__content {max-height: 200px;max-width: 100%;overflow: auto;}#sk-container-id-1 input.sk-toggleable__control:checked~label.sk-toggleable__label-arrow:before {content: \"▾\";}#sk-container-id-1 div.sk-estimator input.sk-toggleable__control:checked~label.sk-toggleable__label {background-color: #d4ebff;}#sk-container-id-1 div.sk-label input.sk-toggleable__control:checked~label.sk-toggleable__label {background-color: #d4ebff;}#sk-container-id-1 input.sk-hidden--visually {border: 0;clip: rect(1px 1px 1px 1px);clip: rect(1px, 1px, 1px, 1px);height: 1px;margin: -1px;overflow: hidden;padding: 0;position: absolute;width: 1px;}#sk-container-id-1 div.sk-estimator {font-family: monospace;background-color: #f0f8ff;border: 1px dotted black;border-radius: 0.25em;box-sizing: border-box;margin-bottom: 0.5em;}#sk-container-id-1 div.sk-estimator:hover {background-color: #d4ebff;}#sk-container-id-1 div.sk-parallel-item::after {content: \"\";width: 100%;border-bottom: 1px solid gray;flex-grow: 1;}#sk-container-id-1 div.sk-label:hover label.sk-toggleable__label {background-color: #d4ebff;}#sk-container-id-1 div.sk-serial::before {content: \"\";position: absolute;border-left: 1px solid gray;box-sizing: border-box;top: 0;bottom: 0;left: 50%;z-index: 0;}#sk-container-id-1 div.sk-serial {display: flex;flex-direction: column;align-items: center;background-color: white;padding-right: 0.2em;padding-left: 0.2em;position: relative;}#sk-container-id-1 div.sk-item {position: relative;z-index: 1;}#sk-container-id-1 div.sk-parallel {display: flex;align-items: stretch;justify-content: center;background-color: white;position: relative;}#sk-container-id-1 div.sk-item::before, #sk-container-id-1 div.sk-parallel-item::before {content: \"\";position: absolute;border-left: 1px solid gray;box-sizing: border-box;top: 0;bottom: 0;left: 50%;z-index: -1;}#sk-container-id-1 div.sk-parallel-item {display: flex;flex-direction: column;z-index: 1;position: relative;background-color: white;}#sk-container-id-1 div.sk-parallel-item:first-child::after {align-self: flex-end;width: 50%;}#sk-container-id-1 div.sk-parallel-item:last-child::after {align-self: flex-start;width: 50%;}#sk-container-id-1 div.sk-parallel-item:only-child::after {width: 0;}#sk-container-id-1 div.sk-dashed-wrapped {border: 1px dashed gray;margin: 0 0.4em 0.5em 0.4em;box-sizing: border-box;padding-bottom: 0.4em;background-color: white;}#sk-container-id-1 div.sk-label label {font-family: monospace;font-weight: bold;display: inline-block;line-height: 1.2em;}#sk-container-id-1 div.sk-label-container {text-align: center;}#sk-container-id-1 div.sk-container {/* jupyter's `normalize.less` sets `[hidden] { display: none; }` but bootstrap.min.css set `[hidden] { display: none !important; }` so we also need the `!important` here to be able to override the default hidden behavior on the sphinx rendered scikit-learn.org. See: https://github.com/scikit-learn/scikit-learn/issues/21755 */display: inline-block !important;position: relative;}#sk-container-id-1 div.sk-text-repr-fallback {display: none;}</style><div id=\"sk-container-id-1\" class=\"sk-top-container\"><div class=\"sk-text-repr-fallback\"><pre>RandomForestRegressor()</pre><b>In a Jupyter environment, please rerun this cell to show the HTML representation or trust the notebook. <br />On GitHub, the HTML representation is unable to render, please try loading this page with nbviewer.org.</b></div><div class=\"sk-container\" hidden><div class=\"sk-item\"><div class=\"sk-estimator sk-toggleable\"><input class=\"sk-toggleable__control sk-hidden--visually\" id=\"sk-estimator-id-1\" type=\"checkbox\" checked><label for=\"sk-estimator-id-1\" class=\"sk-toggleable__label sk-toggleable__label-arrow\">RandomForestRegressor</label><div class=\"sk-toggleable__content\"><pre>RandomForestRegressor()</pre></div></div></div></div></div>"
            ]
          },
          "metadata": {},
          "execution_count": 5
        }
      ]
    },
    {
      "cell_type": "code",
      "source": [
        "preds_valid=model.predict(X_test)\n",
        "accuracy_valib = accuracy_score(y_test, list(map(lambda x: 1 if x > 0.7 else 0, preds_valid)))\n",
        "score_valid = mean_absolute_error(y_test,preds_valid)\n",
        "\n",
        "print(\"Accuracy: \",accuracy_valib)\n",
        "print(\"MAE: \",score_valid)"
      ],
      "metadata": {
        "colab": {
          "base_uri": "https://localhost:8080/"
        },
        "id": "eaDeof-T40HY",
        "outputId": "29e2956d-d2f0-4c02-dd8f-5882419dd3c8"
      },
      "execution_count": null,
      "outputs": [
        {
          "output_type": "stream",
          "name": "stdout",
          "text": [
            "Accuracy:  0.6871035940803383\n",
            "MAE:  0.2703496426054566\n"
          ]
        }
      ]
    },
    {
      "cell_type": "code",
      "source": [
        "fpr, tpr, tresholds = roc_curve(y_test, preds_valid)\n",
        "plt.plot(fpr, tpr, color='red')\n",
        "plt.title('ROC')\n",
        "plt.xlabel('FPR')\n",
        "plt.ylabel('TPR')\n",
        "plt.grid()\n",
        "\n",
        "print('ROC-AUC-score: ', roc_auc_score(y_test, preds_valid))"
      ],
      "metadata": {
        "colab": {
          "base_uri": "https://localhost:8080/",
          "height": 489
        },
        "id": "P_fsfSp46vOY",
        "outputId": "bc9e0b99-b79a-4893-868f-0ef0d731031f"
      },
      "execution_count": null,
      "outputs": [
        {
          "output_type": "stream",
          "name": "stdout",
          "text": [
            "ROC-AUC-score:  0.5990990990990992\n"
          ]
        },
        {
          "output_type": "display_data",
          "data": {
            "text/plain": [
              "<Figure size 640x480 with 1 Axes>"
            ],
            "image/png": "[encoded data removed]"
          },
          "metadata": {}
        }
      ]
    }
  ]
}