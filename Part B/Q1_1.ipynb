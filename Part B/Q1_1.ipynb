{
  "nbformat": 4,
  "nbformat_minor": 0,
  "metadata": {
    "colab": {
      "provenance": []
    },
    "kernelspec": {
      "name": "python3",
      "display_name": "Python 3"
    },
    "language_info": {
      "name": "python"
    }
  },
  "cells": [
    {
      "cell_type": "code",
      "execution_count": 1,
      "metadata": {
        "id": "QCaY8wGAf-Gq"
      },
      "outputs": [],
      "source": [
        "import requests, json, datetime"
      ]
    },
    {
      "cell_type": "code",
      "source": [
        "# Get JSON data from API\n",
        "api = \"https://api.whatsonchain.com/v1/bsv/main/block/height/813087\"\n",
        "json_data = requests.get(api).json()\n",
        "json_data = json.dumps(json_data)\n",
        "json_data = json.loads(json_data)"
      ],
      "metadata": {
        "id": "FPUz-ZxNgEOu"
      },
      "execution_count": 2,
      "outputs": []
    },
    {
      "cell_type": "code",
      "source": [
        "json_data_txcount = json_data.get('txcount')\n",
        "json_data_time = json_data.get('time')\n",
        "json_data_totalFees = json_data.get('totalFees')\n",
        "json_data_confirmations = json_data.get('confirmations')\n",
        "json_data_miner = json_data.get('miner')"
      ],
      "metadata": {
        "id": "bldbsByWgF7L"
      },
      "execution_count": 3,
      "outputs": []
    },
    {
      "cell_type": "code",
      "source": [
        "convert_time = datetime.datetime.utcfromtimestamp(json_data_time).strftime('%Y-%m-%d %H:%M:%S')"
      ],
      "metadata": {
        "id": "WgGUh5m0gIjP"
      },
      "execution_count": 4,
      "outputs": []
    },
    {
      "cell_type": "code",
      "source": [
        "print(f\"txcount:{json_data_txcount}\")\n",
        "print(f\"time: {convert_time}\")\n",
        "print(f\"total fees: {json_data_totalFees}\")\n",
        "print(f\"confirmations: {json_data_confirmations}\")\n",
        "print(f\"miner: {json_data_miner}\")"
      ],
      "metadata": {
        "colab": {
          "base_uri": "https://localhost:8080/"
        },
        "id": "5PtB-SKjgIWD",
        "outputId": "d4b6d248-4ecc-48ab-e440-8c0139519897"
      },
      "execution_count": 6,
      "outputs": [
        {
          "output_type": "stream",
          "name": "stdout",
          "text": [
            "txcount:63284\n",
            "time: 2023-10-09 12:30:06\n",
            "total fees: 0.0038235699999997763\n",
            "confirmations: 13979\n",
            "miner: taal.com\n"
          ]
        }
      ]
    },
    {
      "cell_type": "markdown",
      "source": [
        "txcount: Transaction recored by a block\n",
        "\n",
        "time: Transection time\n",
        "\n",
        "total fees: Transection fees\n",
        "\n",
        "confirmations: The confirmation of a new block\n",
        "\n",
        "miner: The miner that mines the block"
      ],
      "metadata": {
        "id": "bXcua8UH-T-O"
      }
    }
  ]
}